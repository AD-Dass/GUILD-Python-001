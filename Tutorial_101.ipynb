{
 "cells": [
  {
   "attachments": {},
   "cell_type": "markdown",
   "metadata": {},
   "source": [
    "## **Welcome to Python 101**\n",
    "\n",
    "**Aims:** Today we are going to learn to code in Python. By the end of today we should be able write a simple scripts.\n",
    "\n",
    "This tutorial should cover:\n",
    "1. Printing statements.\n",
    "2. Datatypes\n",
    "3. Basic data structures\n",
    "4. Loops and conditinal statements.\n",
    "5. Function and classes\n",
    "6. Tools and libraries\n",
    "\n",
    "Lets get started!"
   ]
  },
  {
   "attachments": {},
   "cell_type": "markdown",
   "metadata": {},
   "source": [
    "### **1. Your first script**\n",
    "\n",
    "This your first Python programming scripts.\n",
    "You are going to get the computer to print some text.\n",
    "\n",
    "In the box below type `print(\"[Enter your name]\")` and hit the run button."
   ]
  },
  {
   "cell_type": "code",
   "execution_count": null,
   "metadata": {},
   "outputs": [],
   "source": [
    "# Type your code below:"
   ]
  },
  {
   "attachments": {},
   "cell_type": "markdown",
   "metadata": {},
   "source": [
    "If that worked, you have created your first Python program.\n",
    "\n",
    "The line of code you created instructed the computer to print a string (a bunch of text characters.)"
   ]
  },
  {
   "attachments": {},
   "cell_type": "markdown",
   "metadata": {},
   "source": [
    "### **2. Data types**\n",
    "\n",
    "Python allows you to store data (variable) to the PC memory. Before we save anything its best to understand what we are saving, whats its going to be used and the best way to save it.\n",
    "\n",
    "There are 4 main variable types:\n",
    "1. String - Used to store text (typically inbetween \"\" marks).e.g. \"Hello world\".\n",
    "2. Numerical - Used to store numbers e.g. 1, 2, 3, 4, 500, or 0.5.\n",
    "3. Boolean - A variable representing 1 or 0. In most (including Python) these are True / False.\n",
    "4. Sequences. - A groups of variables e.g a list or dictionary (we'll discuss these in a min).\n",
    "\n",
    "Python is clever enough to recognise what data type you are using.\n",
    "\n",
    "But certain function or tools will throw up an error.\n",
    "\n",
    "*e.g You can't multpliy a string and numerical value.*\n",
    "\n",
    "To store a variable you need to declare a variable name then type out variables after a equals sign.  "
   ]
  },
  {
   "cell_type": "code",
   "execution_count": 1,
   "metadata": {},
   "outputs": [],
   "source": [
    "# Store a string variable\n",
    "\n",
    "string_variable = \"lelow\" # Type in your name.\n",
    "\n",
    "# Store a numerical variable\n",
    "\n",
    "numerical_variable = 1# Type in a numerical variable\n",
    "\n",
    "# Store a boolean variable\n",
    "\n",
    "boolean_variable = True # Type in either true or false"
   ]
  },
  {
   "attachments": {},
   "cell_type": "markdown",
   "metadata": {},
   "source": [
    "We can check what data type each of these variables are by seeing the variables attribute.\n",
    "\n",
    "This can be done by printing type(VARIABLE_NAME).\n",
    "\n",
    "`print(\"The first variable is type: \",type(string_variable))`"
   ]
  },
  {
   "cell_type": "code",
   "execution_count": 5,
   "metadata": {},
   "outputs": [
    {
     "name": "stdout",
     "output_type": "stream",
     "text": [
      "The firts variable is type:  <class 'str'>\n"
     ]
    }
   ],
   "source": [
    "# Print out each of the data type for each varible.\n",
    "# I've done the first one for you.\n",
    "\n",
    "print(\"The first variable is type: \",type(string_variable))\n",
    "\n",
    "# Second one below here:\n",
    "\n",
    "\n",
    "# Third one below here:\n"
   ]
  },
  {
   "attachments": {},
   "cell_type": "markdown",
   "metadata": {},
   "source": [
    "### **Grouping variables**\n",
    "\n",
    "Now that we got an idea of how to store / declare variables, we can now group them of task.\n",
    "\n",
    "Say if we wanted to store player information on a football team, we can store player names, ages, goals in a structure of data. \n",
    "\n",
    "The most common structure of data you will come across is a list. As it's name suggest it is a list of variables.\n",
    "\n",
    "Lists in Python a are created in a similar way to variables but the data is stored between sqaure brackets \"[]\".\n",
    "\n",
    "Lets have a look below"
   ]
  },
  {
   "cell_type": "code",
   "execution_count": 8,
   "metadata": {},
   "outputs": [
    {
     "name": "stdout",
     "output_type": "stream",
     "text": [
      "['Saka', 'Kane', 'Bellingham', 'Grealish', 'Mount', 'Foden', 'Pickford']\n",
      "[]\n"
     ]
    }
   ],
   "source": [
    "# Lets declare a list with player names\n",
    "\n",
    "players = [\n",
    "    \"Saka\",\n",
    "    \"Kane\",\n",
    "    \"Bellingham\",\n",
    "    \"Grealish\",\n",
    "    \"Mount\",\n",
    "    \"Foden\",\n",
    "    \"Pickford\"\n",
    "    ]\n",
    "\n",
    "# Declare a list below with player goals as a numerical value.\n",
    "\n",
    "player_goals = []\n",
    "\n",
    "print(players)\n",
    "print(player_goals)"
   ]
  },
  {
   "attachments": {},
   "cell_type": "markdown",
   "metadata": {},
   "source": [
    "Lists can only store data of the same type.\n",
    "\n",
    "There are also other data srtuctures such as dictionaries and tuples.\n",
    "These are used in other application to retain certain data structure properties.\n",
    "\n",
    "Now we have the data in a list we can do some cool things to them. We can:\n",
    "1. Add data\n",
    "2. Delete data\n",
    "3. Update data\n",
    "4. Select specific data.\n",
    "\n",
    "*Below some code showing how each of these are done.*\n",
    "\n",
    "`Here is some code!`"
   ]
  },
  {
   "cell_type": "code",
   "execution_count": null,
   "metadata": {},
   "outputs": [],
   "source": [
    "# First step is to add Rasford to the player list\n",
    "# This can be done by using the .append function.\n",
    "\n",
    "players.append(\"Rashford\")\n",
    "print(players)\n",
    "print(\"There are \",len(players), \"players in my list.\")\n"
   ]
  },
  {
   "cell_type": "code",
   "execution_count": null,
   "metadata": {},
   "outputs": [],
   "source": [
    "# Second step, I want to remove Pickford as he is a goalkeeper.\n",
    "# I'm going to do this by using the .reomve command\n",
    "\n",
    "players.remove(\"Pickford\")\n",
    "print(players)\n",
    "print(\"There are \",len(players), \"players in my list.\")"
   ]
  },
  {
   "cell_type": "code",
   "execution_count": null,
   "metadata": {},
   "outputs": [],
   "source": [
    "# Third step, lets find the replace Mount with Sterling\n",
    "\n",
    "players[4] = \"Sterling\"\n",
    "print(players)\n",
    "print(\"There are \",len(players), \"players in my list.\")"
   ]
  },
  {
   "attachments": {},
   "cell_type": "markdown",
   "metadata": {},
   "source": [
    "### **Loops and conditional statements**\n",
    "\n",
    "Add goals plus assists in for loop.\n",
    "\n",
    "Then create an if statement to say if they earnt a bonus."
   ]
  },
  {
   "attachments": {},
   "cell_type": "markdown",
   "metadata": {},
   "source": [
    "### **Code structuring, functions and classes**\n",
    "\n",
    "Show the demo code.\n",
    "\n",
    "Create a function (basically a group of instructions)\n",
    "\n",
    "then create a class. Describe object orientated code."
   ]
  },
  {
   "attachments": {},
   "cell_type": "markdown",
   "metadata": {},
   "source": [
    "### **Tool modules / libraries**"
   ]
  },
  {
   "attachments": {},
   "cell_type": "markdown",
   "metadata": {},
   "source": [
    "### **Learning more**\n",
    "\n",
    "This tutorial gives a quick introduction into basics of Python programming.\n",
    "From this you should have the understanding of creating simple scripts.\n",
    "\n",
    "Becomming a game developler (and any kind of coder for that matter) doesn't happen overnight. It requires a lot of practise, studying, and a growth mindset to cope with learning new stuff constantly. The application of Python and other coding languages are vast and their is plenty of learning materials to help you along that journey.\n",
    "\n",
    "I've included some additional resources for those interested in learning more on additional topics.\n",
    "\n",
    "#### **General**\n",
    "\n",
    "1. https://www.w3schools.com/python/\n",
    "2. https://docs.python.org/3/ (This is basically the user manual for Python.)\n",
    "3. https://www.youtube.com/watch?v=rfscVS0vtbw (Long video but goes from A-Z)\n",
    "\n",
    "#### **Game development**\n",
    "Though Python isn't the go to platform for most game developers, you can still create games in with some Python libraries before learning more complex languages such as C++. \n",
    "\n",
    "1. **PyGame** - https://www.pygame.org/wiki/tutorials (Official website for the Pygame library.)\n",
    "2. **PyGame** - https://realpython.com/pygame-a-primer/\n",
    "3. **PyGame** - https://realpython.com/tutorials/gamedev/\n",
    "\n",
    "#### **Data science**\n",
    "Data is the new oil! Business across the world need it to gain a competitive advantage by learning about themselves and their competitors. Data scientist help this by collecting data and analysing it.\n",
    "\n",
    "1. **Pandas** - https://www.w3schools.com/python/pandas/default.asp - *Pandas' library allows you to analyse medium to large datasets.*\n",
    "2. **Learn Numpy** - https://www.w3schools.com/python/numpy/numpy_intro.asp - *Very important for game developers as well.*\n",
    "3. **Request / Selenium** - https://realpython.com/python-web-scraping-practical-introduction/ - *Useful for data collection.\n",
    "\n",
    "##### **Machine learning and AI**\n",
    "ML and AI can be quite maths heavy as well. Its a worth learning about statistics and regression analysis before diving into this.\n",
    "\n",
    "1. **SciKitLearn** - https://scikit-learn.org/stable/ \n",
    "2. **PyTorch** - https://pytorch.org/docs/stable/index.html\n",
    "3. **Tensorflow** - https://www.tensorflow.org/api_docs\n",
    "4. **Spark** - https://spark.apache.org/docs/latest/"
   ]
  }
 ],
 "metadata": {
  "kernelspec": {
   "display_name": "Python 3",
   "language": "python",
   "name": "python3"
  },
  "language_info": {
   "codemirror_mode": {
    "name": "ipython",
    "version": 3
   },
   "file_extension": ".py",
   "mimetype": "text/x-python",
   "name": "python",
   "nbconvert_exporter": "python",
   "pygments_lexer": "ipython3",
   "version": "3.10.10"
  },
  "orig_nbformat": 4,
  "vscode": {
   "interpreter": {
    "hash": "58a4d7dbd198d55bc2776c3657559c94fc8b9b031cc1aca49804bf45fb6fc68b"
   }
  }
 },
 "nbformat": 4,
 "nbformat_minor": 2
}
