{
 "cells": [
  {
   "attachments": {},
   "cell_type": "markdown",
   "metadata": {},
   "source": [
    "### **1. Your first script**\n",
    "\n",
    "This your first Python programming scripts.\n",
    "You are going to get the computer to print some text.\n",
    "\n",
    "In the box below type print(\"[Enter your name]\") and hit the run button."
   ]
  },
  {
   "cell_type": "code",
   "execution_count": null,
   "metadata": {},
   "outputs": [],
   "source": [
    "# Type your code below:"
   ]
  },
  {
   "attachments": {},
   "cell_type": "markdown",
   "metadata": {},
   "source": [
    "If that worked, you have created your first Python program.\n",
    "\n",
    "Te line of code you created instructed the computer to print a string (a bunch of text characters.)"
   ]
  },
  {
   "attachments": {},
   "cell_type": "markdown",
   "metadata": {},
   "source": [
    "### **2. Data types **\n",
    "\n",
    "Python allows you to store data (variable) to the PC memory. Before we save anything its best to understand what we are saving, whats its going to be used and the best way to save it.\n",
    "\n",
    "There are 4 main variable types:\n",
    "1. String - Used to store text (typically inbetween \"\" marks).e.g. \"Hello world\".\n",
    "2. Numerical - Used to store numbers e.g. 1, 2, 3, 4, 500, or 0.5.\n",
    "3. Boolean - A variable representing 1 or 0. In most (including Python) these are True / False.\n",
    "4. Sequences. - A groups of variables e.g a list or dictionary (we'll discuss these in a min).\n",
    "\n",
    "Python is clever enough to recognise what data type you are using.\n",
    "\n",
    "But certain function or tools will throw up an error.\n",
    "\n",
    "e.g can't multpliy a string and numerical value.\n",
    "\n",
    "To store a variable you need to declare a variable name then type out variables after a equals sign.  "
   ]
  },
  {
   "cell_type": "code",
   "execution_count": null,
   "metadata": {},
   "outputs": [
    {
     "ename": "",
     "evalue": "",
     "output_type": "error",
     "traceback": [
      "\u001b[1;31mFailed to start the Kernel. \n",
      "\u001b[1;31mJupyter server crashed. Unable to connect. \n",
      "\u001b[1;31mError code from Jupyter: 1\n",
      "\u001b[1;31musage: jupyter.py [-h] [--version] [--config-dir] [--data-dir] [--runtime-dir]\n",
      "\u001b[1;31m                  [--paths] [--json] [--debug]\n",
      "\u001b[1;31m                  [subcommand]\n",
      "\u001b[1;31m\n",
      "\u001b[1;31mJupyter: Interactive Computing\n",
      "\u001b[1;31m\n",
      "\u001b[1;31mpositional arguments:\n",
      "\u001b[1;31m  subcommand     the subcommand to launch\n",
      "\u001b[1;31m\n",
      "\u001b[1;31moptions:\n",
      "\u001b[1;31m  -h, --help     show this help message and exit\n",
      "\u001b[1;31m  --version      show the versions of core jupyter packages and exit\n",
      "\u001b[1;31m  --config-dir   show Jupyter config dir\n",
      "\u001b[1;31m  --data-dir     show Jupyter data dir\n",
      "\u001b[1;31m  --runtime-dir  show Jupyter runtime dir\n",
      "\u001b[1;31m  --paths        show all Jupyter paths. Add --json for machine-readable\n",
      "\u001b[1;31m                 format.\n",
      "\u001b[1;31m  --json         output paths as machine-readable json\n",
      "\u001b[1;31m  --debug        output debug information about paths\n",
      "\u001b[1;31m\n",
      "\u001b[1;31mAvailable subcommands: 1.0.0\n",
      "\u001b[1;31m\n",
      "\u001b[1;31m\n",
      "\u001b[1;31mJupyter command `jupyter-notebook` not found. \n",
      "\u001b[1;31mView Jupyter <a href='command:jupyter.viewOutput'>log</a> for further details."
     ]
    }
   ],
   "source": [
    "# Store a string variable\n",
    "\n",
    "string_variable = \"lelow\" # Type in your name.\n",
    "\n",
    "# Store a numerical variable\n",
    "\n",
    "numerical_variable = 1# Type in a numerical variable\n",
    "\n",
    "# Store a boolean variable\n",
    "\n",
    "boolean_variable = True # Type in either true or false"
   ]
  },
  {
   "attachments": {},
   "cell_type": "markdown",
   "metadata": {},
   "source": [
    "We can check what data type each of these variables are by seeing the variables attribute.\n",
    "\n",
    "This can be done by printing variable name + .dtype() (see below)"
   ]
  },
  {
   "cell_type": "code",
   "execution_count": null,
   "metadata": {},
   "outputs": [],
   "source": [
    "print(string_variable.dtype())"
   ]
  }
 ],
 "metadata": {
  "kernelspec": {
   "display_name": "Python 3",
   "language": "python",
   "name": "python3"
  },
  "language_info": {
   "name": "python",
   "version": "3.10.10"
  },
  "orig_nbformat": 4,
  "vscode": {
   "interpreter": {
    "hash": "58a4d7dbd198d55bc2776c3657559c94fc8b9b031cc1aca49804bf45fb6fc68b"
   }
  }
 },
 "nbformat": 4,
 "nbformat_minor": 2
}
