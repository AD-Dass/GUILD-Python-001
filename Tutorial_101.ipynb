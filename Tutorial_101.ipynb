{
 "cells": [
  {
   "attachments": {},
   "cell_type": "markdown",
   "metadata": {},
   "source": [
    "## **Welcome to Python 101**\n",
    "\n",
    "**Aims:** Today we are going to learn to code in Python. By the end, we should be able to write a simple Python script.\n",
    "\n",
    "This tutorial should cover:\n",
    "1. Printing statements.\n",
    "2. Datatypes\n",
    "3. Basic data structures\n",
    "4. Loops and conditional statements.\n",
    "5. Function and classes\n",
    "6. Tools and libraries\n",
    "\n",
    "Lets get started!"
   ]
  },
  {
   "attachments": {},
   "cell_type": "markdown",
   "metadata": {},
   "source": [
    "### **1. Your first script**\n",
    "\n",
    "This is your first Python programming script.\n",
    "\n",
    "You are going to get the computer to print some text.\n",
    "\n",
    "In the box below type `print(\"[Enter your name]\")` and hit the run button."
   ]
  },
  {
   "cell_type": "code",
   "execution_count": null,
   "metadata": {},
   "outputs": [],
   "source": [
    "# Type your code below:"
   ]
  },
  {
   "attachments": {},
   "cell_type": "markdown",
   "metadata": {},
   "source": [
    "If that worked, you have created your first Python program.\n",
    "\n",
    "The line of code you created instructed the computer to print a string (a bunch of text characters)."
   ]
  },
  {
   "attachments": {},
   "cell_type": "markdown",
   "metadata": {},
   "source": [
    "### **2. Data types**\n",
    "\n",
    "Python allows you to store data (as a variable) to the PC memory. Before we save anything, its best to understand what we are saving, whats its going to be used for and the best way to save it.\n",
    "\n",
    "There are 4 main variable types:\n",
    "1. String - Used to store text (typically inbetween quotation marks) .e.g. \"Hello world\".\n",
    "2. Numerical - Used to store numbers e.g. 1, 2, 3, 4, 500, or 0.5.\n",
    "3. Boolean - A variable representing 1 or 0. In most coding languages (including Python) this is True / False.\n",
    "4. Sequences - A groups of variables e.g. a list or dictionary (we'll discuss these in a min).\n",
    "\n",
    "Python is clever enough to recognise what data type you are using.\n",
    "\n",
    "But certain function or tools will throw up an error.\n",
    "\n",
    "*e.g You can't multpliy a string and numerical value.*\n",
    "\n",
    "To store a variable, you need to declare a variable name then type out variables after a equals sign. \n",
    "\n",
    "`my_variable = 1 + 1` "
   ]
  },
  {
   "cell_type": "code",
   "execution_count": null,
   "metadata": {},
   "outputs": [],
   "source": [
    "# Store a string variable\n",
    "\n",
    "string_variable = \"hello\" # Type in your name.\n",
    "\n",
    "# Store a numerical variable\n",
    "\n",
    "numerical_variable = 1 # Type in a numerical variable\n",
    "\n",
    "# Store a boolean variable\n",
    "\n",
    "boolean_variable = True # Type in either true or false"
   ]
  },
  {
   "attachments": {},
   "cell_type": "markdown",
   "metadata": {},
   "source": [
    "We can check what data type each of these variables are by seeing the variables attribute.\n",
    "\n",
    "This can be done by printing type(VARIABLE_NAME).\n",
    "\n",
    "`print(\"The first variable is type: \",type(string_variable))`"
   ]
  },
  {
   "cell_type": "code",
   "execution_count": null,
   "metadata": {},
   "outputs": [],
   "source": [
    "# Print out each of the data type for each varible.\n",
    "# I've done the first one for you.\n",
    "\n",
    "print(\"The first variable is type: \", type(string_variable))\n",
    "\n",
    "# Second one below here:\n",
    "\n",
    "\n",
    "# Third one below here:\n"
   ]
  },
  {
   "attachments": {},
   "cell_type": "markdown",
   "metadata": {},
   "source": [
    "### **Grouping variables**\n",
    "\n",
    "Now that we got an idea of how to store / declare variables, we can now group them.\n",
    "\n",
    "Say if we wanted to store a set of player information from a football team, we can store player names, ages, goals in a structure of data. \n",
    "\n",
    "The most common structure of data you will come across is a list. As it's name suggest it is a list of variables.\n",
    "\n",
    "Lists in Python a are created in a similar way to variables but the data is stored between sqaure brackets \"[]\".\n",
    "\n",
    "Lets have a look below"
   ]
  },
  {
   "cell_type": "code",
   "execution_count": null,
   "metadata": {},
   "outputs": [],
   "source": [
    "# Lets declare a list with player names\n",
    "\n",
    "players = [\n",
    "    \"Saka\",\n",
    "    \"Kane\",\n",
    "    \"Bellingham\",\n",
    "    \"Grealish\",\n",
    "    \"Mount\",\n",
    "    \"Foden\",\n",
    "    \"Pickford\"\n",
    "    ]\n",
    "\n",
    "# Declare a list below with player goals as a numerical value.\n",
    "\n",
    "player_goals = []\n",
    "\n",
    "print(players)\n",
    "print(player_goals)"
   ]
  },
  {
   "attachments": {},
   "cell_type": "markdown",
   "metadata": {},
   "source": [
    "Lists can only store data of the same type.\n",
    "\n",
    "There are also other data srtuctures such as dictionaries and tuples.\n",
    "These are used in other applications to retain certain properties.\n",
    "\n",
    "Now we have the data in a list we can do some cool things to them. We can:\n",
    "1. Add data\n",
    "2. Delete data\n",
    "3. Update data\n",
    "4. Select specific data.\n",
    "\n",
    "*Below is some code showing how each of these are done.*"
   ]
  },
  {
   "cell_type": "code",
   "execution_count": null,
   "metadata": {},
   "outputs": [],
   "source": [
    "# First step is to add Rashford to the player list\n",
    "# This can be done by using the .append function.\n",
    "\n",
    "players.append(\"Rashford\")\n",
    "print(players)\n",
    "print(\"There are \",len(players), \"players in my list.\")\n"
   ]
  },
  {
   "cell_type": "code",
   "execution_count": null,
   "metadata": {},
   "outputs": [],
   "source": [
    "# Second step, I want to remove Pickford as he is a goalkeeper.\n",
    "# I'm going to do this by using the .reomve command\n",
    "\n",
    "players.remove(\"Pickford\")\n",
    "print(players)\n",
    "print(\"There are \",len(players), \"players in my list.\")"
   ]
  },
  {
   "cell_type": "code",
   "execution_count": null,
   "metadata": {},
   "outputs": [],
   "source": [
    "# Third step, lets find and replace Mount with Sterling\n",
    "\n",
    "# Mount is the fifth person on the list. Python counts from zero so we have to use 4 as the index for Mount. \n",
    "\n",
    "players[4] = \"Sterling\"\n",
    "print(players)\n",
    "print(\"There are \",len(players), \"players in my list.\")"
   ]
  },
  {
   "attachments": {},
   "cell_type": "markdown",
   "metadata": {},
   "source": [
    "### **Loops and conditional statements**\n",
    "\n",
    "For loops and conditional statments are useful to repeat or make decision actions in your code.\n",
    "\n",
    "For loops are used to repeat lines of code per a prescribed iteration.\n",
    "\n",
    "*E.g. I want to calculate fantasy points for each player.*"
   ]
  },
  {
   "cell_type": "code",
   "execution_count": null,
   "metadata": {},
   "outputs": [],
   "source": [
    "player_goals = [4, 2, 3, 1, 0, 1, 2]\n",
    "\n",
    "player_assists = [2, 1, 4, 0, 0, 2, 1]\n",
    "\n",
    "player_fantasy_pts = []\n",
    "\n",
    "# In a for loop we create a variable n that is the iteration of the loop we are in.\n",
    "# We then establish the starting point, end point and the steps to take in the range function.\n",
    "# Then we add the code we want to repeat.\n",
    "# NB: Code related to a loop and statement are tab-indented underneath it.\n",
    "\n",
    "for n in range(0, len(players), 1):\n",
    "    print(n)\n",
    "    print(players[n])\n",
    "    fantasy_points = (3 * player_goals[n]) + (1.5 * player_assists[n])\n",
    "    # Add a line of code that appends the fantasy points of each player to the player_fantasy_points list.\n",
    "    # Add your code\n",
    "\n",
    "print(player_fantasy_pts)\n"
   ]
  },
  {
   "attachments": {},
   "cell_type": "markdown",
   "metadata": {},
   "source": [
    "As you can see 'for' loops can be extremely useful. There are other variations loops which will be discussed in furter sections.\n",
    "\n",
    "*NB: Loops are a neat way to repeat steps but are not the most efficient way. Large loops can take forever.*\n",
    "\n",
    "#### **If statements** \n",
    "\n",
    "If statements can also be used to do basic logic.\n",
    "\n",
    "Lets create a logic statement to that checks if a players name is longer than four characters\n",
    "\n",
    "Using a 'For' loops as above, we can add an 'If' statement and determine a results if the statement is true or false.\n",
    "\n",
    "The below code determines whether a players name is longer than 4 characters."
   ]
  },
  {
   "cell_type": "code",
   "execution_count": null,
   "metadata": {},
   "outputs": [],
   "source": [
    "# A 'for' loop going through each of the players.\n",
    "\n",
    "for n in range(0, len(players),1):\n",
    "\n",
    "# 'if' statments starts with a 'if' command, then some logic and end with a semi-colon.\n",
    "# This 'if' statement is determing the length of a string using the len() funciton comparing it to the value 5.\n",
    "\n",
    "    if len(players[n]) < 5:\n",
    "        # If the statement is true the following lines of code is excuted.\n",
    "        print(players[n], \"has a short name.\")\n",
    "    else:\n",
    "        # If the statement is false the following lines of code is excuted.\n",
    "        print(players[n], \"has a long name.\")"
   ]
  },
  {
   "attachments": {},
   "cell_type": "markdown",
   "metadata": {},
   "source": [
    "#### **Challenge:**\n",
    "\n",
    "Using a for loop and a if statement create a list that determine if a player has made his player bonus if his fantasy score is more than 6 points. "
   ]
  },
  {
   "cell_type": "code",
   "execution_count": null,
   "metadata": {},
   "outputs": [],
   "source": [
    "# Enter your code here."
   ]
  },
  {
   "attachments": {},
   "cell_type": "markdown",
   "metadata": {},
   "source": [
    "### **Functions and Classes**\n",
    "\n",
    "#### **Functions**\n",
    "\n",
    "Functions are a packaged set of instructions you have created that can be called in as a tool.\n",
    "\n",
    "This is useful when you have to repeat steps in programs and don't want to write the sect of instructions each time.\n",
    "\n",
    "A function can take inputs, execute a task, and then outputs a results.\n",
    "\n",
    "An example can done with packaging the loop and conditional statement above.\n",
    "\n",
    "To create a function. first we must declare a function, name it, then add pair of brackets to hold our inputs followed by a colon.\n",
    "\n",
    "After that we can add our instructions.\n",
    "\n",
    "If we want the function to output a value we can use the 'return' command.\n",
    "\n",
    "An example: \n",
    "\n",
    "*A simple function that substracts 1, multiplies 12 and and finds the remainder after dividing by 10.* \n"
   ]
  },
  {
   "cell_type": "code",
   "execution_count": null,
   "metadata": {},
   "outputs": [],
   "source": [
    "def my_function(my_input): # def to define the function, name of the function, my inputs \n",
    "    \"\"\"\n",
    "    A function that does a numerical calculation.\n",
    "    \"\"\"\n",
    "    value = my_input - 1 # Now we can add our instructions after a tab.\n",
    "    value = value * 12\n",
    "    value = value % 10\n",
    "    return value\n",
    "\n",
    "print(my_function(5))"
   ]
  },
  {
   "attachments": {},
   "cell_type": "markdown",
   "metadata": {},
   "source": [
    "Modify the function to add a input to change the multiplication number 'multiplier' and the value 12 to the multiplier."
   ]
  },
  {
   "cell_type": "code",
   "execution_count": null,
   "metadata": {},
   "outputs": [],
   "source": [
    "def secondfunction(my_input): # def to define the function, name of the function, my inputs \n",
    "    \"\"\"\n",
    "    A second function that does a numerical calculation.\n",
    "    \"\"\"\n",
    "    value = my_input - 1 # Now we can add our instructions after a tab.\n",
    "    value = value * 12\n",
    "    value = value % 10\n",
    "    return value\n",
    "\n",
    "print(my_function(my_input=5,multiplier=10)) # The answer should be zero when it runs."
   ]
  },
  {
   "attachments": {},
   "cell_type": "markdown",
   "metadata": {},
   "source": [
    "#### **Classes**\n",
    "\n",
    "One of the features that makes Python popular to programmers is thats its a object-oriented language.\n",
    "\n",
    "This means we can create object that can do tasks / actions.\n",
    "\n",
    "*This is quite important for creating objects in games.*\n",
    "\n",
    "For example we are going to create a mug.\n",
    "\n",
    "A mug has certain properties and does certain functions. We can write that into code.\n",
    "\n",
    "First we must intialise the mug and then define what it can and can't do.\n",
    "\n",
    "i.e. its size and colour, and then the ability to fill the mug and pour the mug's content.\n",
    "\n",
    "This can be seen below:"
   ]
  },
  {
   "cell_type": "code",
   "execution_count": null,
   "metadata": {},
   "outputs": [],
   "source": [
    "# lets create ou mug\n",
    "\n",
    "class Mug():\n",
    "    \"\"\"\n",
    "    A model of a mug with a custom height, diameter and colour.\n",
    "    \"\"\"\n",
    "\n",
    "    def __init__(self,diameter, height, colour): # The __init__ function defines the properties of the mug.\n",
    "        self.diameter = diameter\n",
    "        self.height = height\n",
    "        self.capacity = (self.diameter/2)**2 * 3.14159 # Some maths to figure out the mug's capicity.\n",
    "        self.volume_of_liquid = 0 # We start of with an empty mug.\n",
    "        self.colour = colour\n",
    "        print(\"I am a \" + self.colour + \" mug.\")\n",
    "\n",
    "        # We use 'self' as the program remember the properties of the mug in memory.\n",
    "\n",
    "    def fill_mug(self,liquid_amount): # A function to fill the mug.\n",
    "        \"\"\"\n",
    "        A function that fills the mug with a prescribed amount of liquid.\n",
    "        \"\"\"\n",
    "        self.volume_of_liquid = self.volume_of_liquid + liquid_amount\n",
    "        if self.volume_of_liquid > self.capacity: # An 'If' Statement to check if the mug is full or not.\n",
    "            print(\"Mug has been over-filled and the excess liquid has spilt over\")\n",
    "            self.volume_of_liquid = self.capacity\n",
    "        else: \n",
    "            print(\"The mug is \", self.volume_of_liquid / self.capacity, \"% full\")\n",
    "\n",
    "    def empty_out_mug(self): # A function to empty the mug.\n",
    "        \"\"\"\n",
    "        A function that empties the mug.\n",
    "        \"\"\"\n",
    "        self.volume_of_liquid = 0\n",
    "        print(\"Mug is empty\")\n",
    "\n"
   ]
  },
  {
   "cell_type": "code",
   "execution_count": null,
   "metadata": {},
   "outputs": [],
   "source": [
    "# Lets call up the mug, first we must assign the object to a variable and give its parameters.\n",
    "\n",
    "MyMug = Mug(diameter=2.5, height=3, colour=\"white\") # My little espresso cup"
   ]
  },
  {
   "cell_type": "code",
   "execution_count": null,
   "metadata": {},
   "outputs": [],
   "source": [
    "# Lets fill it with some nice espresso. We can fill the mug up with its fill_mug function.\n",
    "\n",
    "MyMug.fill_mug(3.5) \n",
    "\n",
    "# Eh I want a double shot\n",
    "\n",
    "MyMug.fill_mug(3.5)  \n",
    "\n",
    "# Oh not its decaf.\n",
    "\n",
    "MyMug.empty_out_mug()"
   ]
  },
  {
   "attachments": {},
   "cell_type": "markdown",
   "metadata": {},
   "source": [
    "Now attempt to modify the empty mug function so you can pour out a certain portion of the liquid."
   ]
  },
  {
   "attachments": {},
   "cell_type": "markdown",
   "metadata": {},
   "source": [
    "### **Tool modules / libraries**\n",
    "\n",
    "Modules and libraries in Python allow you to use pre-created functions and classes from third party sources in your Python script (Saves time instead of writing code from scratch each time). \n",
    "\n",
    "To use these functions you should first check they are installed before importing them into your script.\n",
    "\n",
    "To check that a library is installed you can use the 'pip' command in your Windows / Apple / Linux terminal. An example is laid out below.\n",
    "\n",
    "`pip install numpy`\n",
    "\n",
    "This command tells the computer to open pip and install Numpy (a library for matrix / vector transformations) if it hasn't been installed yet.\n",
    "\n",
    "Once a library as installed you can import it to the script using the import command.\n",
    "\n",
    "`import numpy`\n",
    "\n",
    "We can also rename the library to speed up writing the code, e.g:\n",
    "\n",
    "`import numpy as np`\n",
    "\n",
    "Try the example below:"
   ]
  },
  {
   "cell_type": "code",
   "execution_count": null,
   "metadata": {},
   "outputs": [],
   "source": [
    "# An example of importing the Numpy library\n",
    "\n",
    "import numpy as np\n",
    "\n",
    "# Checking the library works by creating a simply matrix\n",
    "\n",
    "simple_matrix = np.array([5, 10, 15, 20])\n",
    "print(simple_matrix)\n",
    "\n",
    "# Now try to install the pandas (a library to work with tables) library and import it into the script below naming it pd.\n",
    "\n",
    "\n",
    "\n",
    "# If it works these two lines of code below should print a table.\n",
    "\n",
    "d = {'col1': [1, 2], 'col2': [3, 4]}\n",
    "table_test = pd.Dataframe(data=d) # If you have a newer version of pandas this maybe pd.DataFrame\n",
    "print(table_test)\n"
   ]
  },
  {
   "attachments": {},
   "cell_type": "markdown",
   "metadata": {},
   "source": [
    "Great you have imported a library.\n",
    "\n",
    "You can find out other useful libraries through sources below, or even create your own.\n",
    "\n",
    "**A list of pre-insatalled libraries and their documentation:**\n",
    "\n",
    "https://docs.python.org/3/library/ \n",
    "\n",
    "**Trusted third party libraries:**\n",
    "\n",
    "https://data-flair.training/blogs/python-libraries/\n"
   ]
  },
  {
   "attachments": {},
   "cell_type": "markdown",
   "metadata": {},
   "source": [
    "### **Code structuring**\n",
    "\n",
    "Python scripts (stuff saved as .py) typically follow a format to make working them and reading them easier.\n",
    "\n",
    "A script typically contains (in this order):\n",
    "1. Your imported libraries. - *So the script can call libaries before we use them*\n",
    "2. Any functions and classes you have created. - *So the script know what functions we may use*\n",
    "3. A main conditional statement to sequesce our functions and classes. *Where our program runs!* \n",
    "\n",
    "In the Python Demo.py there is an eample.\n",
    "\n",
    "Hopefully, this has given you an example of what Python script should look like.\n",
    "\n",
    "There are additional rules and guideline (search PEP8) that profressional Python programmers should adhere too, but for now don't worry about that until you have grasped the basics."
   ]
  },
  {
   "attachments": {},
   "cell_type": "markdown",
   "metadata": {},
   "source": [
    "### **Learning more**\n",
    "\n",
    "This tutorial gives a quick introduction into basics of Python programming.\n",
    "From this you should have the understanding of creating simple scripts.\n",
    "\n",
    "Becomming a game developler (and any kind of coder for that matter) doesn't happen overnight. It requires a lot of practise, studying, and a growth mindset to cope with learning new stuff constantly. The application of Python and other coding languages are vast and there is plenty of learning materials to help you along that journey.\n",
    "\n",
    "I've included some additional resources for those interested in learning more on additional topics.\n",
    "\n",
    "#### **General**\n",
    "\n",
    "1. https://www.w3schools.com/python/\n",
    "2. https://docs.python.org/3/ (This is basically the user manual for Python.)\n",
    "3. https://www.youtube.com/watch?v=rfscVS0vtbw (Long video but goes from A-Z)\n",
    "\n",
    "#### **Game development**\n",
    "Though Python isn't the go to platform for most game developers, you can still create games in with some Python libraries before learning more complex languages such as C++. \n",
    "\n",
    "1. **PyGame** - https://www.pygame.org/wiki/tutorials (Official website for the Pygame library.)\n",
    "2. **PyGame** - https://realpython.com/pygame-a-primer/\n",
    "3. **PyGame** - https://realpython.com/tutorials/gamedev/\n",
    "\n",
    "#### **Data science**\n",
    "Data is the new oil! Business across the world need it to gain a competitive advantage by learning about themselves and their competitors. Data scientist help this by collecting data and analysing it.\n",
    "\n",
    "1. **Pandas** - https://www.w3schools.com/python/pandas/default.asp - *Pandas' library allows you to analyse medium to large datasets.*\n",
    "2. **Learn Numpy** - https://www.w3schools.com/python/numpy/numpy_intro.asp - *Very important for game developers as well.*\n",
    "3. **Request / Selenium** - https://realpython.com/python-web-scraping-practical-introduction/ - *Useful for data collection.\n",
    "\n",
    "##### **Machine learning and AI**\n",
    "ML and AI can be quite maths heavy as well. Its a worth learning about statistics and regression analysis before diving into this.\n",
    "\n",
    "1. **SciKitLearn** - https://scikit-learn.org/stable/ \n",
    "2. **PyTorch** - https://pytorch.org/docs/stable/index.html\n",
    "3. **Tensorflow** - https://www.tensorflow.org/api_docs\n",
    "4. **Spark** - https://spark.apache.org/docs/latest/"
   ]
  }
 ],
 "metadata": {
  "kernelspec": {
   "display_name": "Python 3",
   "language": "python",
   "name": "python3"
  },
  "language_info": {
   "codemirror_mode": {
    "name": "ipython",
    "version": 3
   },
   "file_extension": ".py",
   "mimetype": "text/x-python",
   "name": "python",
   "nbconvert_exporter": "python",
   "pygments_lexer": "ipython3",
   "version": "3.10.10"
  },
  "orig_nbformat": 4,
  "vscode": {
   "interpreter": {
    "hash": "58a4d7dbd198d55bc2776c3657559c94fc8b9b031cc1aca49804bf45fb6fc68b"
   }
  }
 },
 "nbformat": 4,
 "nbformat_minor": 2
}
